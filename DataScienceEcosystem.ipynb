{
 "cells": [
  {
   "cell_type": "markdown",
   "id": "07d406c2-3619-49d6-86f7-e9f0330221c1",
   "metadata": {},
   "source": [
    "# Data Science Tools & Ecosystem"
   ]
  },
  {
   "cell_type": "markdown",
   "id": "ffb31106-00d8-4c60-a42f-f3f6212daa77",
   "metadata": {},
   "source": [
    "## In this notebook Data Science tools and Ecosystems are summarized"
   ]
  },
  {
   "cell_type": "markdown",
   "id": "a87099f3-1d40-4122-a358-bbbab76f31bb",
   "metadata": {},
   "source": [
    "**Objectives:**\n",
    "- List popular data science languages\n",
    "- List commonly used data science libraries\n",
    "- Tabulate data science tools used on open source development environments\n",
    "- Evaluate an arithmetic expression\n",
    "- Convert minutes to hours"
   ]
  },
  {
   "cell_type": "markdown",
   "id": "ebacf3ef-21ef-471c-8102-8971a1ec8c25",
   "metadata": {},
   "source": [
    "## Some of the popular languages that data scientists use are:\n",
    "1. Python\n",
    "2. R\n",
    "3. Scala\n",
    "4. Julia\n",
    "5. C++\n",
    "6. SQL"
   ]
  },
  {
   "cell_type": "markdown",
   "id": "cdc77fd7-8c3f-4026-806e-7395dc1d3509",
   "metadata": {},
   "source": [
    "## Some of the commonly used libraries used by Data Scientists include:\n",
    "1. Numpy (Python)\n",
    "2. Pandas (Python)\n",
    "3. TensorFlow (Python) - built on C++\n",
    "4. Sci-kit learn (Python)\n",
    "5. Keras (Python)\n",
    "6. matplotlib (Python)\n",
    "7. Plotly (Python)\n",
    "8. ggplot(R)\n",
    "9. dplyr (R)\n",
    "10. string (R)\n",
    "11. caret (R)"
   ]
  },
  {
   "cell_type": "markdown",
   "id": "4d7d68b7-cbeb-4bc3-8b8c-c15c3629f84d",
   "metadata": {},
   "source": [
    "|Data Science tools|\n",
    "|------------------|\n",
    "|JupyterNoteook|\n",
    "|JupyterLite|\n",
    "|RStudio|\n",
    "|Anaconda|\n",
    "|Visual Studio Code| "
   ]
  },
  {
   "cell_type": "markdown",
   "id": "1cb44d3d-954e-430e-864d-77bc55f50243",
   "metadata": {},
   "source": [
    "### Below are a few examples of evaluating arithmetic expressions in Python:"
   ]
  },
  {
   "cell_type": "code",
   "execution_count": 1,
   "id": "73a342bc-1251-42a1-a54d-3d48768117ea",
   "metadata": {},
   "outputs": [
    {
     "data": {
      "text/plain": [
       "17"
      ]
     },
     "execution_count": 1,
     "metadata": {},
     "output_type": "execute_result"
    }
   ],
   "source": [
    "#This is a simple arithmetic expression to multiply and then add integers\n",
    "(3*4)+5"
   ]
  },
  {
   "cell_type": "code",
   "execution_count": 2,
   "id": "da1a2711-3263-44db-810b-90df3225ab6d",
   "metadata": {},
   "outputs": [
    {
     "name": "stdout",
     "output_type": "stream",
     "text": [
      "3.3333333333333335\n"
     ]
    }
   ],
   "source": [
    "#This will convert 200 minutes into hours by dividing by 60\n",
    "minutes = 200\n",
    "hours = minutes/60\n",
    "print(hours)"
   ]
  },
  {
   "cell_type": "markdown",
   "id": "e178e73d-15f0-446b-93b1-e4c7c56fda90",
   "metadata": {},
   "source": [
    "## Author\n",
    "Sachin Kriplani"
   ]
  }
 ],
 "metadata": {
  "kernelspec": {
   "display_name": "Python 3 (ipykernel)",
   "language": "python",
   "name": "python3"
  },
  "language_info": {
   "codemirror_mode": {
    "name": "ipython",
    "version": 3
   },
   "file_extension": ".py",
   "mimetype": "text/x-python",
   "name": "python",
   "nbconvert_exporter": "python",
   "pygments_lexer": "ipython3",
   "version": "3.11.9"
  }
 },
 "nbformat": 4,
 "nbformat_minor": 5
}
